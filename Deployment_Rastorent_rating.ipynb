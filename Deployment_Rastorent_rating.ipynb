{
  "nbformat": 4,
  "nbformat_minor": 0,
  "metadata": {
    "colab": {
      "provenance": []
    },
    "kernelspec": {
      "name": "python3",
      "display_name": "Python 3"
    },
    "language_info": {
      "name": "python"
    }
  },
  "cells": [
    {
      "cell_type": "code",
      "source": [
        "import pickle\n",
        "import pandas as pd\n",
        "\n",
        "with open('/content/restaurant_rating_pipeline.pkl', 'rb') as file:\n",
        "    model_pipeline = pickle.load(file)\n",
        "\n",
        "def predict_from_user_input(model_pipeline):\n",
        "    feature_columns = ['City', 'Locality', 'Price range', 'Cuisines', 'Has Table booking', 'Has Online delivery']\n",
        "    user_input = {}\n",
        "    for feature in feature_columns:\n",
        "        if feature == 'Price range':\n",
        "            user_input[feature] = int(input(f\"Enter value for {feature} (integer): \"))\n",
        "        elif feature in ['Has Table booking', 'Has Online delivery']:\n",
        "            value = input(f\"Does the restaurant have {feature}? (Yes/No): \").strip().capitalize()\n",
        "            user_input[feature] = value\n",
        "        else:\n",
        "            user_input[feature] = input(f\"Enter value for {feature}: \").strip()\n",
        "    user_input_df = pd.DataFrame(user_input, index=[0])\n",
        "\n",
        "    predicted_rating_category = model_pipeline.predict(user_input_df)[0]\n",
        "\n",
        "    return predicted_rating_category\n",
        "\n",
        "predicted_category = predict_from_user_input(model_pipeline)\n",
        "print(f\"Predicted Rating Category: {predicted_category}\")\n"
      ],
      "metadata": {
        "colab": {
          "base_uri": "https://localhost:8080/"
        },
        "id": "I32YqyDbupDE",
        "outputId": "a8019be5-1f29-43c5-9bea-e2d9d209a4d0"
      },
      "execution_count": 9,
      "outputs": [
        {
          "output_type": "stream",
          "name": "stdout",
          "text": [
            "Enter value for City: Bhopal\n",
            "Enter value for Locality: ayodhya baypass\n",
            "Enter value for Price range (integer): 20000\n",
            "Enter value for Cuisines: seafood\n",
            "Does the restaurant have Has Table booking? (Yes/No): no\n",
            "Does the restaurant have Has Online delivery? (Yes/No): no\n",
            "Predicted Rating Category: Good\n"
          ]
        }
      ]
    }
  ]
}